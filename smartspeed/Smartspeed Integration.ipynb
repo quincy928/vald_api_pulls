{
 "cells": [
  {
   "cell_type": "markdown",
   "id": "a74d49bd-e222-4e16-9cf0-c3e40c15d82c",
   "metadata": {},
   "source": [
    "# Integraging the SmartSpeed API to access team data\n",
    "This guide is intended to provide instructions on how to interact with and use the [External SmartSpeed API.](https://prd-use-api-extsmartspeed.valdperformance.com/index.html) This python class will provide the functionality to pull data from the SmartSpeed and Profiles API endpoints, to fetch and format data into csv(s) like you would on ValdHub. \n",
    "\n",
    "To use this class, you must first retrieve your ClientID, ClientSecret, and TenantID. In the vald_smartspeed Python file, replace the values of `self.client_id`, `self.client_secret`, and `self.tenant_id` with your retrieved values within the `Vald()` class.\n"
   ]
  },
  {
   "cell_type": "markdown",
   "id": "222d2bd7-d96f-4c8d-9680-2a073c8525c1",
   "metadata": {},
   "source": [
    "### First, import required python packages."
   ]
  },
  {
   "cell_type": "code",
   "execution_count": 4,
   "id": "542139bc-d8de-4660-9a51-7e03267478e4",
   "metadata": {},
   "outputs": [
    {
     "data": {
      "text/plain": [
       "<module 'vald_smartspeed' from 'C:\\\\Users\\\\cquin\\\\OneDrive\\\\Documents\\\\vald\\\\vald_api_pulls\\\\smartspeed\\\\vald_smartspeed.py'>"
      ]
     },
     "execution_count": 4,
     "metadata": {},
     "output_type": "execute_result"
    }
   ],
   "source": [
    "import pandas as pd\n",
    "import vald_smartspeed\n",
    "from vald_smartspeed import Vald\n",
    "from dotenv import load_dotenv\n",
    "import os\n",
    "import time\n",
    "import logging\n",
    "import importlib\n",
    "load_dotenv()\n",
    "logging.basicConfig(level=logging.INFO)\n",
    "importlib.reload(vald_smartspeed) #used to ensure any changes in the vald_smartspeed python file are reflected in this notebook"
   ]
  },
  {
   "cell_type": "markdown",
   "id": "c7164000-2656-492b-8f63-6c9c017b684e",
   "metadata": {},
   "source": [
    "### Our class is called vald, let's create an instance of it and inspect it's attributes and methods\n",
    "The attributes defined in this class are\n",
    "\n",
    "| Attribute                 | Description                                                                                             |\n",
    "|----------------------------|---------------------------------------------------------------------------------------------------------|\n",
    "| `client_id`                | The unique identifier for the client application, used to authenticate Vald API requests.                    |\n",
    "| `client_secret`            | A secret key associated with the `client_id`, used to securely authenticate Vald API requests.                |\n",
    "| `tenant_id`                | The identifier for the specific tenant or organization within the Vald API system.                          |\n",
    "| `smartspeed_api_url`       | The URL endpoint for accessing the [External Smartspeed API](https://prd-use-api-extsmartspeed.valdperformance.com/index.html), used to retrieve performance metrics and data.        |\n",
    "| `groupnames_api_url`       | The URL endpoint for accessing the [External Tenants API](https://prd-use-api-externaltenants.valdperformance.com/swagger/index.html) to retrieve group (team) names related to the athletes or tests.        |\n",
    "| `profiles_api_url`         | The URL endpoint for accessing the [External Profiles API](https://prd-use-api-externalprofile.valdperformance.com/swagger/index.html) to retrieve athlete profile information.                         |\n",
    "| `vald_master_file_path`    | The file path to the master file containing all smartspeed data.                                        |\n",
    "| `base_directory`           | The base directory on the local system where files and data related to the Vald system are stored.       |\n",
    "\n",
    "`client_id`, `client_secret`, and `tenant_id` will be stored in a `.env` file for security purposes. You can retrieve these credentials from ValdHub or by reaching out to your Vald support representative. These values remain consistent across your organization, meaning you'll use the same credentials to interact with all of Vald's external APIs.\n"
   ]
  },
  {
   "cell_type": "markdown",
   "id": "3dd691d9-6e3f-4ce6-9825-4bcdecb7e1fa",
   "metadata": {},
   "source": [
    "### Now let's look at the methods of this class"
   ]
  },
  {
   "cell_type": "markdown",
   "id": "39daa1dd-d775-4b92-9747-17dd80f969f4",
   "metadata": {},
   "source": [
    "| Method                  | Description                                                                                                               |\n",
    "|-------------------------|---------------------------------------------------------------------------------------------------------------------------|\n",
    "| `get_last_update`        | Retrieves the last test date from the MasterFile and adds a 1-millisecond increment to ensure uniqueness for API requests. |\n",
    "| `sanitize_filename`      | Replaces any special characters in a filename with underscores for safe file saving.                                       |\n",
    "| `sanitize_foldername`    | Replaces any special characters in a folder name with underscores or spaces to ensure safe folder creation.                |\n",
    "| `get_access_token`       | Requests an access token using `client_id` and `client_secret` to authenticate API requests.                               |\n",
    "| `fetch_data`             | Fetches data from a given API URL using provided headers, returning JSON data if the response is successful.               |\n",
    "| `get_tests`              | Retrieves test data from the [Smartspeed API](https://prd-use-api-extsmartspeed.valdperformance.com/index.html), retrieves athlete information from the Profiles API, <br> retrieves group (team) information from the Groupnames API, and combines group and athlete data in parallel.  |\n",
    "| `modify_df`              | Modifies and reformats a DataFrame by adding UTC dates/times and renaming key columns for clarity.                         |\n",
    "| `update_smartspeed`      | Updates the master data file with the latest test data from the Smartspeed system.                                         |\n",
    "| `update_master_file`     | Appends new data to the existing master file or creates a new file if it does not exist.                                    |\n",
    "| `save_dataframes`        | Saves team-specific test data in individual files, updating existing files if necessary.                                    |\n",
    "| `save_master_file`       | Saves the master DataFrame to the specified file, creating necessary directories if they don't exist.                      |\n",
    "| `data_to_groups`         | Organizes the retrieved test data into teams/groups and separates it by test type.                                         |\n",
    "| `get_data_until_today`   | Fetches test data from the API until today’s date and saves it after processing and filtering for duplicates.              |\n",
    "| `populate_folders`       | Sets up the folder structure and updates the data by calling the relevant methods, then saves the team/group data.         |\n"
   ]
  },
  {
   "cell_type": "markdown",
   "id": "0a967b93-35a3-4a9c-8b04-abe408d053f8",
   "metadata": {},
   "source": [
    "### `get_tests`\n",
    "\n",
    "The `get_tests` method accepts two parameters: `start_date` and `pageno`. \n",
    "\n",
    "- The **`start_date`** parameter specifies the date to be plugged into the `TestFromUtc` parameter of the `/tests` API input. This allows the function to retrieve data starting from the specified date.\n",
    "- The **`pageno`** parameter indicates which page of data to fetch from the endpoint.\n",
    "\n",
    "This structure provides an intuitive way to interact with the API, as it retrieves tests starting from a certain date and paginates through the results. However, you could modify the function to include additional parameters like:\n",
    "\n",
    "- **`TestToUtc`**: Specifies the end date for filtering tests.\n",
    "- **`ModifiedFromUtc`**: Filters tests based on the date they were last modified.\n",
    "- **`GroupUnderTestId`**: Filters tests by specific group IDs.\n",
    "\n",
    "These parameters can enhance flexibility depending on your specific implementation needs.\n",
    "\n",
    "\n",
    "#### Functionality\n",
    "\n",
    "1. **Access Token Retrieval**:\n",
    "   - The method starts by attempting to get the access token using the `get_access_token` function. If it fails to retrieve the token, it prints an error message and exits the function.\n",
    "\n",
    "2. **API URL Construction**:\n",
    "   - An API URL, `api_url` is constructed using the provided `start_date` and `pageno`, formatted as a query string.\n",
    "\n",
    "3. **Fetching Tests Data**:\n",
    "   - The method calls the `fetch_data` function with the constructed API URL and authorization headers to retrieve the tests data. If the response is empty (i.e., `None`), it returns an empty DataFrame.\n",
    "\n",
    "4. **Group Names Retrieval**:\n",
    "   - The method then constructs a second API URL to fetch group names associated with the tenant. It creates a mapping of group IDs to group names for later use.\n",
    "\n",
    "5. **Concurrent Data Fetching for Profiles**:\n",
    "   - Using a `ThreadPoolExecutor`, it concurrently fetches profile data for each test in the `tests_data` using the `fetch_data` method. This is done to improve efficiency by making multiple requests in parallel.\n",
    "   - As each profile data is retrieved, it adds the `Name` (composed of given and family names) and the associated `Groups` (derived from group IDs) to each test record.\n",
    "\n",
    "6. **Flattening Nested JSON**:\n",
    "   - The method includes a nested function, `flatten_json`, which is responsible for transforming nested JSON structures into a flat dictionary format. This is useful for converting complex data into a more manageable format.\n",
    "   - The method calls this function on each record in the `tests_data` to create a list of flattened records.\n",
    "\n",
    "7. **DataFrame Creation**:\n",
    "   - Finally, it converts the flattened data into a pandas DataFrame and prints a completion message before returning the DataFrame."
   ]
  },
  {
   "cell_type": "code",
   "execution_count": 5,
   "id": "868fbbfd-8a42-4b0f-8330-c75394557f62",
   "metadata": {},
   "outputs": [
    {
     "name": "stdout",
     "output_type": "stream",
     "text": [
      "Getting tests starting from 2024-10-01T00:00:00Z on page number 1\n",
      "Failed to retrieve access token\n"
     ]
    }
   ],
   "source": [
    "smartspeed = Vald()\n",
    "start_date = '2024-10-01T00:00:00Z'\n",
    "#Store the data in october_data\n",
    "october_data = smartspeed.get_tests(start_date, 1)\n",
    "#If you are seeing \"Failed to retrieve access token\", ensure you have properly set up your .env file."
   ]
  },
  {
   "cell_type": "markdown",
   "id": "072bb24d-5599-4fb4-94e8-49d8c2f93901",
   "metadata": {},
   "source": [
    "### JSON Data Retrieved from the SmartSpeed API\n",
    "\n",
    "The following JSON structure is an example value of the schema of the /tests endpoint:\n",
    "\n",
    "```json\n",
    "[\n",
    "  {\n",
    "    \"id\": \"3fa85f64-5717-4562-b3fc-2c963f66afa6\",\n",
    "    \"testResultId\": \"3fa85f64-5717-4562-b3fc-2c963f66afa6\",\n",
    "    \"profileId\": \"3fa85f64-5717-4562-b3fc-2c963f66afa6\",\n",
    "    \"groupUnderTestId\": \"3fa85f64-5717-4562-b3fc-2c963f66afa6\",\n",
    "    \"testName\": \"string\",\n",
    "    \"testTypeName\": \"TrafficLightSprint\",\n",
    "    \"repCount\": 0,\n",
    "    \"deviceCount\": 0,\n",
    "    \"testDateUtc\": \"2024-10-07T20:11:10.186Z\",\n",
    "    \"additionalOptionsFields\": {\n",
    "      \"startType\": \"Standard\",\n",
    "      \"direction\": \"Left\",\n",
    "      \"cutDirectionChoice\": \"Random\",\n",
    "      \"reactiveDelayEnabled\": true,\n",
    "      \"reactiveDelayMinimumInSeconds\": 0,\n",
    "      \"reactiveDelayMaximumInSeconds\": 0,\n",
    "      \"events\": 0,\n",
    "      \"durationInSeconds\": 0,\n",
    "      \"lapCount\": 0,\n",
    "      \"intervalType\": \"FixedDuration\",\n",
    "      \"testStandardType\": \"Standard\",\n",
    "      \"dropHeight\": 0,\n",
    "      \"dropHeightEnabled\": true,\n",
    "      \"weightKg\": 0\n",
    "    },\n",
    "    \"runningSummaryFields\": {\n",
    "      \"totalTimeSeconds\": 0,\n",
    "      \"bestSplitSeconds\": 0,\n",
    "      \"splitAverageSeconds\": 0,\n",
    "      \"velocityFields\": {\n",
    "        \"peakVelocityMetersPerSecond\": 0,\n",
    "        \"meanVelocityMetersPerSecond\": 0,\n",
    "        \"distance\": 0,\n",
    "        \"fvpSummaryDto\": {\n",
    "          \"maxVelocity\": 0,\n",
    "          \"maxForce\": 0,\n",
    "          \"maxForceNormalised\": 0,\n",
    "          \"maxPower\": 0,\n",
    "          \"maxPowerNormalised\": 0,\n",
    "          \"forceVelocityCurve\": 0,\n",
    "          \"drf\": 0,\n",
    "          \"rfMax\": 0,\n",
    "          \"tau\": 0,\n",
    "          \"vMax\": 0\n",
    "        }\n",
    "      },\n",
    "      \"gateSummaryFields\": {\n",
    "        \"splitOne\": 0,\n",
    "        \"splitTwo\": 0,\n",
    "        \"splitThree\": 0,\n",
    "        \"splitFour\": 0,\n",
    "        \"cumulativeOne\": 0,\n",
    "        \"cumulativeTwo\": 0,\n",
    "        \"cumulativeThree\": 0,\n",
    "        \"cumulativeFour\": 0\n",
    "      }\n",
    "    },\n",
    "    \"jumpingSummaryFields\": {\n",
    "      \"flightTimeSeconds\": 0,\n",
    "      \"contactTimeSeconds\": 0,\n",
    "      \"heightMeters\": 0,\n",
    "      \"rsi\": 0,\n",
    "      \"flightTimeOverContractionTime\": 0,\n",
    "      \"peakPowerOutput\": 0,\n",
    "      \"legStiffness\": 0,\n",
    "      \"impulse\": 0,\n",
    "      \"flightTimePlusContractionTime\": 0,\n",
    "      \"peakPowerOutputOverTotalMass\": 0\n",
    "    },\n",
    "    \"isValid\": true,\n",
    "    \"allGroups\": [\n",
    "      \"3fa85f64-5717-4562-b3fc-2c963f66afa6\"\n",
    "    ]\n",
    "  }\n",
    "]\n",
    "```\n",
    "The `get_tests` method includes a function that flattens the JSON data, transforming each nested value into its own column within a Pandas DataFrame. This approach enhances data accessibility and analysis by providing a more structured format. The `get_tests` method also attaches the athlete's name and group (team) to each row of data by matching the `profileId` with the corresponding athlete profile. This is achieved by retrieving the athlete's name from the profiles API, and the athlete's group (team) from the tenants API. The resulting dataframe looks like this:"
   ]
  },
  {
   "cell_type": "code",
   "execution_count": 3,
   "id": "d6330849-51e0-48bc-87c1-7ebdce174000",
   "metadata": {},
   "outputs": [
    {
     "ename": "AttributeError",
     "evalue": "'NoneType' object has no attribute 'head'",
     "output_type": "error",
     "traceback": [
      "\u001b[1;31m---------------------------------------------------------------------------\u001b[0m",
      "\u001b[1;31mAttributeError\u001b[0m                            Traceback (most recent call last)",
      "Cell \u001b[1;32mIn[3], line 2\u001b[0m\n\u001b[0;32m      1\u001b[0m pd\u001b[38;5;241m.\u001b[39mset_option(\u001b[38;5;124m'\u001b[39m\u001b[38;5;124mdisplay.max_columns\u001b[39m\u001b[38;5;124m'\u001b[39m, \u001b[38;5;28;01mNone\u001b[39;00m)\n\u001b[1;32m----> 2\u001b[0m \u001b[43moctober_data\u001b[49m\u001b[38;5;241;43m.\u001b[39;49m\u001b[43mhead\u001b[49m()\n",
      "\u001b[1;31mAttributeError\u001b[0m: 'NoneType' object has no attribute 'head'"
     ]
    }
   ],
   "source": [
    "pd.set_option('display.max_columns', None)\n",
    "october_data.head()"
   ]
  },
  {
   "cell_type": "markdown",
   "id": "68f67264-e5de-4e93-8c4d-86a0b3209608",
   "metadata": {},
   "source": [
    "The resulting DataFrame contains all the information present in the JSON structure; however, this raw data may not be readily useful for other analysts, such as strength performance coaches. The `modify_df` function will transform this raw data into a more useful format, resembling the structure of a CSV file exported directly from the ValdHub user interface. Feel free to modify the `modify_df` function to fit your specific needs."
   ]
  },
  {
   "cell_type": "code",
   "execution_count": null,
   "id": "4baacd9a-0cbd-4154-a843-8b0f93d628de",
   "metadata": {},
   "outputs": [],
   "source": [
    "october_data_cleaned = smartspeed.modify_df(october_data)\n",
    "october_data_cleaned.head(5)"
   ]
  },
  {
   "cell_type": "markdown",
   "id": "66e2e645-744d-472e-97f8-248fc8057467",
   "metadata": {},
   "source": [
    "### Saving the Data to .csv Using `save_masterfile`, `data_to_groups` and `save_dataframes`\n",
    "\n",
    "### `save_masterfile`\n",
    "- The `save_masterfile` function consolidates all sports data into a single master CSV file.\n",
    "- It checks if the master file already exists; if it does, new data is appended to ensure no information is lost.\n",
    "- This master file provides a comprehensive overview of all recorded metrics, making it easier for analysts to access a unified dataset for broader analysis.\n",
    "\n",
    "### `data_to_groups` \n",
    "- The function organizes a given DataFrame into a nested dictionary (`teams_data`) based on unique groups found in the `Groups` column, allowing for structured data management.\n",
    "- For each group, it further categorizes the data by unique test names found in the `testName` column, storing the corresponding test data in the nested dictionary structure.\n",
    "- The result is a comprehensive dictionary where each key represents a group, and each value is another dictionary containing test names as keys and their associated test data as values, facilitating easy access to specific datasets.\n",
    "\n",
    "\n",
    "### `save_dataframes`\n",
    "- The `save_dataframes` function organizes the data into distinct folders based on each sport, enhancing data accessibility.\n",
    "- Inside each sport's folder, it creates separate CSV files for each test type, allowing for targeted analysis by strength performance coaches.\n",
    "- This structured organization facilitates efficient data retrieval and analysis, enabling coaches to quickly find and utilize the information specific to their needs.\n",
    "\n",
    "You can customize these functions, as well as the `vald_master_file_path` and `base_directory`, to better suit your requirements. One suggestion is to set the base directory to your organization's shared OneDrive. This way, the DataFrames will be saved in the cloud, making them accessible to whoever may need to access the data."
   ]
  },
  {
   "cell_type": "markdown",
   "id": "535135bd-9e44-4050-868d-7b176ebd13c8",
   "metadata": {},
   "source": [
    "### Execute the following code block to save the `october_data_cleaned` DataFrame to your local machine as multiple .csv files, organized by sport. This will help you visualize the directory structure."
   ]
  },
  {
   "cell_type": "code",
   "execution_count": null,
   "id": "8c2ca629-c326-4996-ac75-ea70558a439b",
   "metadata": {},
   "outputs": [],
   "source": [
    "smartspeed.save_master_file(october_data_cleaned)\n",
    "october_data_cleaned_by_sport = smartspeed.data_to_groups(october_data_cleaned)\n",
    "smartspeed.save_dataframes(october_data_cleaned_by_sport)"
   ]
  },
  {
   "cell_type": "markdown",
   "id": "8b6ea6bb-f221-4443-a160-6e4469753cd3",
   "metadata": {},
   "source": [
    "The previous example was simplified to focus on illustrating how each function operates independently. However, it is important to note that the `october_data_cleaned` DataFrame only contains a single page of data, comprising 50 records, which is the limit imposed by the API's `/tests` endpoint. To retrieve more than one page of data, we will need to utilize the `get_data_until_today` function.\n",
    "\n",
    "\n",
    "### `get_data_until_today`\n",
    "- The function retrieves test data from a specified `start_date` until today, fetching data in batches, where each batch is one 50 records \"page\", and aggregating it into a single DataFrame (`new_data`).\n",
    "- It checks for existing data in the master file, and if any duplicates are found based on the 'id' column, these duplicates are removed from the new data.\n",
    "- After formatting the new data with the `modify_df` function, it saves this updated DataFrame to the master file and then processes the data into groups using the `data_to_groups` and `save_dataframes` functions, ultimately saving the organized team data to appropriate files.\n",
    "\n",
    "Execute the following code block to retrieve and save DataFrames from the specified `start_date` to the most recent available record. You can adjust the `start_date` as needed. Keep in mind that if your `start_date` is set to a date earlier than the data in `october_data_cleaned`, any duplicate records will be removed from your master and group data files."
   ]
  },
  {
   "cell_type": "code",
   "execution_count": null,
   "id": "12215eba-67da-4bf2-af07-4cb6ae284e12",
   "metadata": {},
   "outputs": [],
   "source": [
    "start_date = '2024-10-01T00:00:00Z'\n",
    "smartspeed.get_data_until_today(start_date)"
   ]
  },
  {
   "cell_type": "markdown",
   "id": "befcedec-11ba-4e18-b714-0f151e162f39",
   "metadata": {},
   "source": [
    "Finally, the `update_smartspeed` function will identify the most recent date recorded in your master file. It will then call `get_data_until_today`, using this latest date as the parameter, effectively retrieving any new tests that are not already present in your .csv files.\n"
   ]
  },
  {
   "cell_type": "code",
   "execution_count": null,
   "id": "85c2e7a5-4335-41cf-9824-c200b2ade898",
   "metadata": {},
   "outputs": [],
   "source": [
    "smartspeed.update_smartspeed"
   ]
  }
 ],
 "metadata": {
  "kernelspec": {
   "display_name": "Python 3 (ipykernel)",
   "language": "python",
   "name": "python3"
  },
  "language_info": {
   "codemirror_mode": {
    "name": "ipython",
    "version": 3
   },
   "file_extension": ".py",
   "mimetype": "text/x-python",
   "name": "python",
   "nbconvert_exporter": "python",
   "pygments_lexer": "ipython3",
   "version": "3.11.5"
  }
 },
 "nbformat": 4,
 "nbformat_minor": 5
}
